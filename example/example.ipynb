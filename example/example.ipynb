{
 "cells": [
  {
   "cell_type": "markdown",
   "id": "a2fcbe94-a1e7-427c-ae25-a598e1a59e7f",
   "metadata": {},
   "source": [
    "# Write and run COBOL code in a jupyter notebook!"
   ]
  },
  {
   "cell_type": "code",
   "execution_count": 1,
   "id": "ac8d21f7-64bb-4d90-87d2-25de54ec13b6",
   "metadata": {
    "tags": []
   },
   "outputs": [
    {
     "name": "stdout",
     "output_type": "stream",
     "text": [
      "Arch is the best!\n"
     ]
    }
   ],
   "source": [
    "       IDENTIFICATION DIVISION.\n",
    "       PROGRAM-ID.  TheBest.\n",
    "\n",
    "       PROCEDURE DIVISION.\n",
    "           DISPLAY \"Arch is the best!\".\n",
    "           STOP RUN."
   ]
  },
  {
   "cell_type": "code",
   "execution_count": 2,
   "id": "f2b962d2-6aaa-4988-be65-34a3b18a3316",
   "metadata": {
    "tags": []
   },
   "outputs": [
    {
     "name": "stdout",
     "output_type": "stream",
     "text": [
      "STARTING PROGRAM\n",
      "HELLO WORLD         \n"
     ]
    }
   ],
   "source": [
    "       IDENTIFICATION DIVISION.\n",
    "       PROGRAM-ID. HELLO.\n",
    "       DATA DIVISION.\n",
    "       WORKING-STORAGE SECTION.\n",
    "       01 THE-MESSAGE      PIC X(20).\n",
    "       PROCEDURE DIVISION.\n",
    "           DISPLAY \"STARTING PROGRAM\".\n",
    "           MOVE \"HELLO WORLD\" TO THE-MESSAGE.\n",
    "           DISPLAY THE-MESSAGE.\n",
    "           STOP RUN."
   ]
  }
 ],
 "metadata": {
  "kernelspec": {
   "display_name": "COBOL",
   "language": "",
   "name": "janscobolkernel"
  },
  "language_info": {
   "file_extension": ".cob",
   "mimetype": "application/cobol",
   "name": "cobol"
  }
 },
 "nbformat": 4,
 "nbformat_minor": 5
}
